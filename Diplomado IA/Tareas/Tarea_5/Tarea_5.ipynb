{
 "cells": [
  {
   "attachments": {},
   "cell_type": "markdown",
   "metadata": {},
   "source": [
    "## Importando las librerías"
   ]
  },
  {
   "cell_type": "code",
   "execution_count": 7,
   "metadata": {},
   "outputs": [],
   "source": [
    "import csv\n",
    "import random\n",
    "from datetime import datetime, timedelta\n",
    "import pandas as pd\n",
    "import json"
   ]
  },
  {
   "attachments": {},
   "cell_type": "markdown",
   "metadata": {},
   "source": [
    "## Creando los archivos csv"
   ]
  },
  {
   "attachments": {},
   "cell_type": "markdown",
   "metadata": {},
   "source": [
    "### Creando el archivo de clientes:"
   ]
  },
  {
   "cell_type": "code",
   "execution_count": 3,
   "metadata": {},
   "outputs": [],
   "source": [
    "# Crear archivo de clientes\n",
    "with open('clientes.csv', 'w', newline='') as file:\n",
    "    writer = csv.writer(file)\n",
    "    writer.writerow(['id', 'cedula', 'nombre', 'apellido', 'numero_cuenta'])\n",
    "    for i in range(100):\n",
    "        id_cliente = i + 1\n",
    "        cedula = f'cedula{i+1}'\n",
    "        nombre = f'nombre{i+1}'\n",
    "        apellido = f'apellido{i+1}'\n",
    "        numero_cuenta = f'cuenta{i+1}'\n",
    "        writer.writerow([id_cliente, cedula, nombre, apellido, numero_cuenta])"
   ]
  },
  {
   "attachments": {},
   "cell_type": "markdown",
   "metadata": {},
   "source": [
    "### Creando el archivo de transacciones"
   ]
  },
  {
   "cell_type": "code",
   "execution_count": 4,
   "metadata": {},
   "outputs": [],
   "source": [
    "# Crear archivo de transacciones\n",
    "with open('transacciones.csv', 'w', newline='') as file:\n",
    "    writer = csv.writer(file)\n",
    "    writer.writerow(['id_cliente', 'fecha', 'valor'])\n",
    "    for i in range(1000):\n",
    "        id_cliente = random.randint(1, 100)\n",
    "        fecha = datetime.now() - timedelta(days=random.randint(1, 365))\n",
    "        valor = random.randint(-100000, 100000)\n",
    "        writer.writerow([id_cliente, fecha.strftime('%d/%m/%Y'), valor])"
   ]
  },
  {
   "attachments": {},
   "cell_type": "markdown",
   "metadata": {},
   "source": [
    "## Creando y probando las funciones para la clase gestor de clientes"
   ]
  },
  {
   "cell_type": "code",
   "execution_count": 5,
   "metadata": {},
   "outputs": [],
   "source": [
    "    def leer_archivo_clientes():\n",
    "        df_clientes = pd.read_csv('clientes.csv')\n",
    "        return df_clientes\n",
    "\n",
    "    def leer_archivo_transacciones():\n",
    "        df_transacciones = pd.read_csv('transacciones.csv')\n",
    "        return df_transacciones\n",
    "\n",
    "    def crear_diccionario(df_clientes, df_transacciones):\n",
    "        diccionario = {}\n",
    "        for index, row in df_clientes.iterrows():\n",
    "            id_cliente = row['id']\n",
    "            cliente = {\n",
    "                'id': id_cliente,\n",
    "                'cedula': row['cedula'],\n",
    "                'nombre': row['nombre'],\n",
    "                'apellido': row['apellido'],\n",
    "                'transacciones': []\n",
    "            }\n",
    "            transacciones_cliente = df_transacciones[df_transacciones['id_cliente'] == id_cliente]\n",
    "            for _, transaccion in transacciones_cliente.iterrows():\n",
    "                cliente['transacciones'].append({\n",
    "                    'fecha': transaccion['fecha'],\n",
    "                    'valor': transaccion['valor']\n",
    "                })\n",
    "            diccionario[id_cliente] = cliente\n",
    "        return diccionario\n",
    "\n",
    "    def convertir_a_json(diccionario):\n",
    "        objeto_json = json.dumps(diccionario)\n",
    "        return objeto_json\n",
    "\n",
    "    def guardar_json(objeto_json, nombre_archivo):\n",
    "        with open(nombre_archivo, 'w') as file:\n",
    "            file.write(objeto_json)\n",
    "\n",
    "# Ejemplo de uso\n",
    "df_clientes = leer_archivo_clientes()\n",
    "df_transacciones = leer_archivo_transacciones()\n",
    "\n",
    "diccionario = crear_diccionario(df_clientes, df_transacciones)\n",
    "\n",
    "objeto_json = convertir_a_json(diccionario)\n",
    "\n",
    "guardar_json(objeto_json, 'clientes.json')\n"
   ]
  },
  {
   "attachments": {},
   "cell_type": "markdown",
   "metadata": {},
   "source": [
    "## Creación de la clase"
   ]
  },
  {
   "cell_type": "code",
   "execution_count": 3,
   "metadata": {},
   "outputs": [],
   "source": [
    "class GestorClientes:\n",
    "    def __init__(self, clientes_file, transacciones_file):\n",
    "        \"\"\"\n",
    "        Inicializa una instancia de la clase GestorClientes.\n",
    "\n",
    "        Args:\n",
    "            clientes_file (str): Nombre del archivo CSV de clientes.\n",
    "            transacciones_file (str): Nombre del archivo CSV de transacciones.\n",
    "        \"\"\"\n",
    "        self.clientes_file = clientes_file\n",
    "        self.transacciones_file = transacciones_file\n",
    "        self.clientes = None\n",
    "        self.transacciones = None\n",
    "\n",
    "    def leer_archivo_clientes(self):\n",
    "        \"\"\"\n",
    "        Lee el archivo CSV de clientes y almacena los datos en el atributo 'clientes'.\n",
    "        \"\"\"\n",
    "        self.clientes = pd.read_csv(self.clientes_file)\n",
    "\n",
    "    def leer_archivo_transacciones(self):\n",
    "        \"\"\"\n",
    "        Lee el archivo CSV de transacciones y almacena los datos en el atributo 'transacciones'.\n",
    "        \"\"\"\n",
    "        self.transacciones = pd.read_csv(self.transacciones_file)\n",
    "\n",
    "    def crear_diccionario(self):\n",
    "        \"\"\"\n",
    "        Crea un diccionario con la información de los clientes y sus transacciones.\n",
    "\n",
    "        Returns:\n",
    "            dict: Diccionario con la información de los clientes y transacciones.\n",
    "        \"\"\"\n",
    "        diccionario = {}\n",
    "        for index, row in self.clientes.iterrows():\n",
    "            id_cliente = row['id']\n",
    "            cliente = {\n",
    "                'id': id_cliente,\n",
    "                'cedula': row['cedula'],\n",
    "                'nombre': row['nombre'],\n",
    "                'apellido': row['apellido'],\n",
    "                'transacciones': []\n",
    "            }\n",
    "            transacciones_cliente = self.transacciones[self.transacciones['id_cliente'] == id_cliente]\n",
    "            for _, transaccion in transacciones_cliente.iterrows():\n",
    "                cliente['transacciones'].append({\n",
    "                    'fecha': transaccion['fecha'],\n",
    "                    'valor': transaccion['valor']\n",
    "                })\n",
    "            diccionario[id_cliente] = cliente\n",
    "        return diccionario\n",
    "\n",
    "    def convertir_a_json(self, diccionario):\n",
    "        \"\"\"\n",
    "        Convierte un diccionario en un objeto JSON.\n",
    "\n",
    "        Args:\n",
    "            diccionario (dict): Diccionario a convertir en JSON.\n",
    "\n",
    "        Returns:\n",
    "            str: Objeto JSON resultante.\n",
    "        \"\"\"\n",
    "        objeto_json = json.dumps(diccionario)\n",
    "        return objeto_json\n",
    "\n",
    "    def guardar_json(self, objeto_json, nombre_archivo):\n",
    "        \"\"\"\n",
    "        Guarda un objeto JSON en un archivo.\n",
    "\n",
    "        Args:\n",
    "            objeto_json (str): Objeto JSON a guardar.\n",
    "            nombre_archivo (str): Nombre del archivo de destino.\n",
    "        \"\"\"\n",
    "        with open(nombre_archivo, 'w') as file:\n",
    "            file.write(objeto_json)\n",
    "\n",
    "    def ejecutar(self):\n",
    "        \"\"\"\n",
    "        Ejecuta el proceso completo de lectura de archivos, creación del diccionario,\n",
    "        conversión a JSON y guardado en un archivo.\n",
    "        \"\"\"\n",
    "        self.leer_archivo_clientes()\n",
    "        self.leer_archivo_transacciones()\n",
    "        diccionario = self.crear_diccionario()\n",
    "        objeto_json = self.convertir_a_json(diccionario)\n",
    "        self.guardar_json(objeto_json, 'clientes_2.json')\n",
    "\n"
   ]
  },
  {
   "attachments": {},
   "cell_type": "markdown",
   "metadata": {},
   "source": [
    "### Probando la clase"
   ]
  },
  {
   "cell_type": "code",
   "execution_count": 8,
   "metadata": {},
   "outputs": [],
   "source": [
    "# Ejemplo de uso de la clase\n",
    "gestor = GestorClientes('clientes.csv', 'transacciones.csv')\n",
    "gestor.ejecutar()"
   ]
  }
 ],
 "metadata": {
  "kernelspec": {
   "display_name": "NN_time_series",
   "language": "python",
   "name": "python3"
  },
  "language_info": {
   "codemirror_mode": {
    "name": "ipython",
    "version": 3
   },
   "file_extension": ".py",
   "mimetype": "text/x-python",
   "name": "python",
   "nbconvert_exporter": "python",
   "pygments_lexer": "ipython3",
   "version": "3.9.16"
  },
  "orig_nbformat": 4
 },
 "nbformat": 4,
 "nbformat_minor": 2
}

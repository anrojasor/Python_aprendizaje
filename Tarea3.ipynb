{
 "cells": [
  {
   "cell_type": "markdown",
   "metadata": {},
   "source": [
    "# Tarea 3: Funciones"
   ]
  },
  {
   "cell_type": "markdown",
   "metadata": {},
   "source": [
    "Realizada por Daniel Andrés Rojas Ordoñez, fecha 23/04/2023"
   ]
  },
  {
   "cell_type": "markdown",
   "metadata": {},
   "source": [
    "1. Escriba una función  que reciba la fecha de nacimiento de un a persona y calcule la edad de la persona\n"
   ]
  },
  {
   "cell_type": "code",
   "execution_count": 2,
   "metadata": {},
   "outputs": [
    {
     "name": "stdout",
     "output_type": "stream",
     "text": [
      "Su edad es:  24\n"
     ]
    }
   ],
   "source": [
    "import datetime as dt\n",
    "from datetime import datetime\n",
    "def edad(fecha_nacimiento, fecha_actual):\n",
    "    fecha_nacimiento = datetime.strptime(fecha_nacimiento, '%d/%m/%Y')\n",
    "    fecha_actual = datetime.strptime(fecha_actual, '%d/%m/%Y')\n",
    "    diferencia = fecha_actual - fecha_nacimiento\n",
    "    edad = int(diferencia.days/ 365)\n",
    "    return edad\n",
    "\n",
    "fecha_actual = input('Ingrese la fecha actual (dd/mm/aaaa): ')\n",
    "fecha_nacimiento = input('Ingrese su fecha de nacimiento (dd/mm/aaaa): ')\n",
    "Age = edad(fecha_nacimiento, fecha_actual)\n",
    "print('Su edad es: ', Age)"
   ]
  },
  {
   "cell_type": "markdown",
   "metadata": {},
   "source": [
    "2. Crea una función EscribirCentrado, que reciba como parámetro un texto y lo escriba centrado en pantalla (suponiendo una anchura de 80 columnas; pista: deberás escribir 40 - longitud/2 espacios antes del texto).  \n",
    "\n"
   ]
  },
  {
   "cell_type": "code",
   "execution_count": 4,
   "metadata": {},
   "outputs": [
    {
     "name": "stdout",
     "output_type": "stream",
     "text": [
      "                         Esta es una prueba de la función\n"
     ]
    }
   ],
   "source": [
    "def EscribirCentrado(texto):\n",
    "    longitud = len(texto)\n",
    "    espacios = int((80 - longitud) / 2) \n",
    "    print(' ' * espacios, texto)\n",
    "    \n",
    "texto = input('Ingrese un texto: ')\n",
    "EscribirCentrado(texto)"
   ]
  },
  {
   "cell_type": "markdown",
   "metadata": {},
   "source": [
    "3. Construya una función decorada que reciba un texto y lo escriba marcado con Markdown en itálica y resaltada (bold). Revise la lección de decoradores, no vista en clase."
   ]
  },
  {
   "cell_type": "code",
   "execution_count": 6,
   "metadata": {},
   "outputs": [
    {
     "name": "stdout",
     "output_type": "stream",
     "text": [
      "**_Ejemplo de ka función_**\n"
     ]
    }
   ],
   "source": [
    "def markdown(arg):\n",
    "    def Ita_bold(texto):\n",
    "        return f\"**_{arg(texto)}_**\"\n",
    "    return Ita_bold\n",
    "\n",
    "@markdown\n",
    "def format_text(texto):\n",
    "    return texto\n",
    "\n",
    "texto = input('Ingrese un texto: ')\n",
    "texto_formateado = format_text(texto)\n",
    "print(texto_formateado)"
   ]
  },
  {
   "cell_type": "markdown",
   "metadata": {},
   "source": [
    "4.  Crea un programa que pida dos número enteros al usuario y diga si alguno de ellos es múltiplo del otro. \n"
   ]
  },
  {
   "cell_type": "code",
   "execution_count": 21,
   "metadata": {},
   "outputs": [
    {
     "name": "stdout",
     "output_type": "stream",
     "text": [
      "El número 27 no es múltiplo de 5\n"
     ]
    }
   ],
   "source": [
    "def multiplo(numero1, numero2):\n",
    "    residuo = numero1 % numero2\n",
    "    if residuo == 0:\n",
    "        print('El número', numero1, 'es múltiplo de', numero2)\n",
    "    else:\n",
    "        print('El número', numero1, 'no es múltiplo de', numero2)\n",
    "\n",
    "numero1 = int(input('Ingrese el primer número: '))\n",
    "numero2 = int(input('Ingrese el segundo número: '))\n",
    "multiplo(numero1, numero2)"
   ]
  },
  {
   "cell_type": "markdown",
   "metadata": {},
   "source": [
    "5. Crear una función re reciba una lista  de 24 valores de temperatura leída  hora en un día y que calcule la temperatura media  Cree una lista con 24 valores de temperatura de un día de Bogotá y pruebe su función. Invente los datos.\n"
   ]
  },
  {
   "cell_type": "code",
   "execution_count": 2,
   "metadata": {},
   "outputs": [
    {
     "name": "stdout",
     "output_type": "stream",
     "text": [
      "La temperatura promedio es:  13.0\n"
     ]
    }
   ],
   "source": [
    "def temperatura_promedio(temperaturas):\n",
    "    suma = 0\n",
    "    for i in temperaturas:\n",
    "        suma += i\n",
    "    promedio = suma / len(temperaturas)\n",
    "    return promedio\n",
    "\n",
    "temperaturas = list(map(float, input('Ingrese las temperaturas: ').split(',')))\n",
    "promedio = temperatura_promedio(temperaturas)\n",
    "print('La temperatura promedio es: ', promedio)"
   ]
  },
  {
   "cell_type": "markdown",
   "metadata": {},
   "source": [
    "5. Crea un función “ConvertirEspaciado”, que reciba como parámetro un texto y devuelve una cadena con un espacio adicional tras cada letra. Por ejemplo, “Hola, tú” devolverá “H o l a , t ú “.  Pruebe "
   ]
  },
  {
   "cell_type": "code",
   "execution_count": 4,
   "metadata": {},
   "outputs": [
    {
     "name": "stdout",
     "output_type": "stream",
     "text": [
      "H o l a ,   t ú \n"
     ]
    }
   ],
   "source": [
    "def Convertirespaciado(texto):\n",
    "    texto_espaciado = ''\n",
    "    for i in texto:\n",
    "        texto_espaciado += i + ' '\n",
    "    return texto_espaciado\n",
    "\n",
    "texto = input('Ingrese un texto: ')\n",
    "texto_espaciado = Convertirespaciado(texto)\n",
    "print(texto_espaciado)"
   ]
  },
  {
   "cell_type": "markdown",
   "metadata": {},
   "source": [
    "6. Crea una función “calcularMaxMin” que recibe una arreglo con valores numérico y devuelve el valor máximo y el mínimo. "
   ]
  },
  {
   "cell_type": "code",
   "execution_count": 9,
   "metadata": {},
   "outputs": [
    {
     "name": "stdout",
     "output_type": "stream",
     "text": [
      "El máximo es:  5.0\n",
      "El mínimo es:  1.0\n"
     ]
    }
   ],
   "source": [
    "def max(valores):\n",
    "    maximo = 0\n",
    "    for i in valores:\n",
    "        if i > maximo:\n",
    "            maximo = i\n",
    "    return maximo\n",
    "\n",
    "\n",
    "def calcularMaxmin(valores):\n",
    "    minimo = max(valores)\n",
    "    for i in valores:\n",
    "        if i < minimo:\n",
    "            minimo = i\n",
    "    return max(valores), minimo\n",
    "\n",
    "valores = list(map(float, input('Ingrese los valores: ').split(',')))\n",
    "maximo, minimo = calcularMaxmin(valores)\n",
    "print('El máximo es: ', maximo)\n",
    "print('El mínimo es: ', minimo)"
   ]
  },
  {
   "cell_type": "markdown",
   "metadata": {},
   "source": [
    "7.  Diseñar una función que calcule el área y el perímetro de una circunferencia. "
   ]
  },
  {
   "cell_type": "code",
   "execution_count": 11,
   "metadata": {},
   "outputs": [
    {
     "name": "stdout",
     "output_type": "stream",
     "text": [
      "El área es:  3.1416\n",
      "El perímetro es:  6.2832\n"
     ]
    }
   ],
   "source": [
    "def area_perimetro(radio):\n",
    "    area = 3.1416 * radio ** 2\n",
    "    perimetro = 2 * 3.1416 * radio\n",
    "    return area, perimetro\n",
    "\n",
    "radio = float(input('Ingrese el radio: '))\n",
    "area, perimetro = area_perimetro(radio)\n",
    "print('El área es: ', area)\n",
    "print('El perímetro es: ', perimetro)"
   ]
  },
  {
   "cell_type": "markdown",
   "metadata": {},
   "source": [
    "8. Crear una función  llamada “Login”, que recibe un nombre de usuario y una contraseña y devuelva Verdadero si el nombre de usuario es “usuario1” y la contraseña es “asdasd”. Además recibe el número de intentos que se ha intentado hacer login y si no se ha podido hacer login incremente este valor."
   ]
  },
  {
   "cell_type": "code",
   "execution_count": 3,
   "metadata": {},
   "outputs": [
    {
     "name": "stdout",
     "output_type": "stream",
     "text": [
      "El usuario y la contraseña son correctos\n"
     ]
    }
   ],
   "source": [
    "def login(usuario, contrasena):\n",
    "    count = 0\n",
    "    if usuario == 'usuario1' and contrasena == 'asdasd':\n",
    "        print('El usuario y la contraseña son correctos')\n",
    "    else:\n",
    "        print('El usuario y la contraseña son incorrectos')\n",
    "\n",
    "usuario = input('Ingrese el usuario: ')\n",
    "contrasena = input('Ingrese la contraseña: ')\n",
    "login(usuario, contrasena)\n"
   ]
  },
  {
   "cell_type": "markdown",
   "metadata": {},
   "source": [
    "9. Crear una función recursiva que permita calcular el factorial de un número. Realiza un programa principal donde se lea un entero y se muestre el resultado del factorial. Revise la lección de funciones.\n"
   ]
  },
  {
   "cell_type": "code",
   "execution_count": 14,
   "metadata": {},
   "outputs": [
    {
     "name": "stdout",
     "output_type": "stream",
     "text": [
      "El número debe ser positivo\n",
      "Intenta con un número positivo\n"
     ]
    }
   ],
   "source": [
    "def factorial(numero):\n",
    "    if numero == 0:\n",
    "        return 1\n",
    "    else:\n",
    "        if numero < 0:\n",
    "            return print('El número debe ser positivo')\n",
    "        return numero * factorial(numero - 1)\n",
    "\n",
    "numero = int(input('Ingrese el número: '))\n",
    "factorial = factorial(numero)\n",
    "if numero > 0:\n",
    "    print('El factorial de', numero, 'es', factorial)\n",
    "else:\n",
    "    print('Intenta con un número positivo')\n"
   ]
  },
  {
   "cell_type": "markdown",
   "metadata": {},
   "source": [
    "10 Escribir dos funciones que permitan calcular:\n",
    "\n",
    "La cantidad de segundos en un tiempo dado en horas, minutos y segundos.\n",
    "\n",
    "La cantidad de horas, minutos y segundos de un tiempo dado en segundos\n"
   ]
  },
  {
   "cell_type": "code",
   "execution_count": 19,
   "metadata": {},
   "outputs": [
    {
     "name": "stdout",
     "output_type": "stream",
     "text": [
      "Horas:  1\n",
      "Minutos:  16\n",
      "Segundos:  7\n"
     ]
    }
   ],
   "source": [
    "#Función que convierte segundos a horas, minutos y segundos\n",
    "\n",
    "def convertir(segundos):\n",
    "    horas = segundos // 3600\n",
    "    minutos = (segundos % 3600) // 60\n",
    "    segundos = (segundos % 3600) % 60\n",
    "    return horas, minutos, segundos\n",
    "\n",
    "segundos = int(input('Ingrese los segundos: '))\n",
    "horas, minutos, segundos = convertir(segundos)\n",
    "\n",
    "print('Horas: ', horas)\n",
    "print('Minutos: ', minutos)\n",
    "print('Segundos: ', segundos)"
   ]
  },
  {
   "cell_type": "code",
   "execution_count": 17,
   "metadata": {},
   "outputs": [
    {
     "name": "stdout",
     "output_type": "stream",
     "text": [
      "Segundos:  4567\n"
     ]
    }
   ],
   "source": [
    "#Función que convierte horas,minutos y segundos en segundos\n",
    "\n",
    "def convertir(horas, minutos, segundos):\n",
    "    segundos = horas * 3600 + minutos * 60 + segundos\n",
    "    return segundos\n",
    "\n",
    "horas = int(input('Ingrese las horas: '))\n",
    "minutos = int(input('Ingrese los minutos: '))\n",
    "segundos = int(input('Ingrese los segundos: '))\n",
    "segundos = convertir(horas, minutos, segundos)\n",
    "print('Segundos: ', segundos)\n"
   ]
  },
  {
   "cell_type": "markdown",
   "metadata": {},
   "source": [
    "11. Crea una función  que lea una tupla, invierta los valores de la tupla y regrese una nueva tupla invirtiendo los valores. Recuerde que las tuplas son inmutables."
   ]
  },
  {
   "cell_type": "code",
   "execution_count": 20,
   "metadata": {},
   "outputs": [
    {
     "name": "stdout",
     "output_type": "stream",
     "text": [
      "(3, 2, 1)\n"
     ]
    }
   ],
   "source": [
    "def invertir(tupla):\n",
    "    tupla_invertida = ()\n",
    "    for i in tupla:\n",
    "        tupla_invertida = (i,) + tupla_invertida\n",
    "    return tupla_invertida\n",
    "\n",
    "tupla = tuple(map(int, input('Ingrese la tupla: ').split(',')))\n",
    "tupla_invertida = invertir(tupla)\n",
    "print(tupla_invertida)"
   ]
  },
  {
   "cell_type": "markdown",
   "metadata": {},
   "source": [
    "12. Escriba una función que lea una lista y calcule la media geométrica de sus valores, usando funtools.reduce.\n"
   ]
  },
  {
   "cell_type": "code",
   "execution_count": 21,
   "metadata": {},
   "outputs": [
    {
     "name": "stdout",
     "output_type": "stream",
     "text": [
      "La media geométrica es:  4.93242414866094\n"
     ]
    }
   ],
   "source": [
    "from functools import reduce\n",
    "\n",
    "def media_geometrica(lista):\n",
    "    media = reduce(lambda x, y: x * y, lista) ** (1 / len(lista))\n",
    "    return media\n",
    "\n",
    "lista = list(map(int, input('Ingrese la lista: ').split(',')))\n",
    "media = media_geometrica(lista)\n",
    "print('La media geométrica es: ', media)"
   ]
  }
 ],
 "metadata": {
  "kernelspec": {
   "display_name": "Python 3 (ipykernel)",
   "language": "python",
   "name": "python3"
  },
  "language_info": {
   "codemirror_mode": {
    "name": "ipython",
    "version": 3
   },
   "file_extension": ".py",
   "mimetype": "text/x-python",
   "name": "python",
   "nbconvert_exporter": "python",
   "pygments_lexer": "ipython3",
   "version": "3.10.10"
  }
 },
 "nbformat": 4,
 "nbformat_minor": 4
}
